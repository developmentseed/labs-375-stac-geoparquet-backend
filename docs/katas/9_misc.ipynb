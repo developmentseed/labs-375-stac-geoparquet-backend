{
 "cells": [
  {
   "cell_type": "markdown",
   "id": "f9521565",
   "metadata": {},
   "source": [
    "# Miscellaneous checks\n",
    "\n",
    "Answering some questions, e.g. those in https://github.com/developmentseed/labs-375-stac-geoparquet-backend/issues/71.\n",
    "First, how does **rustac** compare to DuckDB's Python client?"
   ]
  },
  {
   "cell_type": "code",
   "execution_count": 6,
   "id": "56d3efc8",
   "metadata": {},
   "outputs": [
    {
     "name": "stdout",
     "output_type": "stream",
     "text": [
      "Retrieved 10000 in 1.54s (6498.29 items/s)\n",
      "Retrieved 10000 in 0.34s (29430.88 items/s)\n"
     ]
    }
   ],
   "source": [
    "import duckdb\n",
    "from rustac import DuckdbClient\n",
    "\n",
    "from labs_375 import NAIP_GEOPARQUET_URI, Timer\n",
    "\n",
    "rustac_client = DuckdbClient()\n",
    "rustac_client.execute(\"CREATE SECRET (TYPE S3, PROVIDER CREDENTIAL_CHAIN)\")\n",
    "with Timer() as timer:\n",
    "    items = rustac_client.search(NAIP_GEOPARQUET_URI)\n",
    "    timer.report(items)\n",
    "\n",
    "# duckdb.sql(\"CREATE SECRET (TYPE S3, PROVIDER CREDENTIAL_CHAIN)\")\n",
    "with Timer() as timer:\n",
    "    items = duckdb.sql(f\"SELECT * from '{NAIP_GEOPARQUET_URI}'\")\n",
    "    timer.report(items)"
   ]
  }
 ],
 "metadata": {
  "kernelspec": {
   "display_name": ".venv",
   "language": "python",
   "name": "python3"
  },
  "language_info": {
   "codemirror_mode": {
    "name": "ipython",
    "version": 3
   },
   "file_extension": ".py",
   "mimetype": "text/x-python",
   "name": "python",
   "nbconvert_exporter": "python",
   "pygments_lexer": "ipython3",
   "version": "3.12.6"
  }
 },
 "nbformat": 4,
 "nbformat_minor": 5
}
