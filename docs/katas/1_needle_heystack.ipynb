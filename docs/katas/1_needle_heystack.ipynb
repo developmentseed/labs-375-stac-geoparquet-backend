{
 "cells": [
  {
   "cell_type": "markdown",
   "id": "29d14024",
   "metadata": {},
   "source": [
    "# Kata 1: needle in a haystack\n",
    "\n",
    "Another common use (some would say, the primary use) of STAC is to search for things.\n",
    "Let's compare the performance of a bunch of different searches."
   ]
  },
  {
   "cell_type": "code",
   "execution_count": 5,
   "id": "a540a58e",
   "metadata": {},
   "outputs": [
    {
     "name": "stdout",
     "output_type": "stream",
     "text": [
      "Retrieved 1 in 0.19s (5.32 items/s)\n",
      "Retrieved 1 in 0.09s (10.80 items/s)\n"
     ]
    }
   ],
   "source": [
    "from pystac_client import Client\n",
    "\n",
    "from labs_375 import STAC_FASTAPI_GEOPARQUET_URI, STAC_FASTAPI_PGSTAC_URI, Timer\n",
    "\n",
    "LONGMONT = {\"type\": \"Point\", \"coordinates\": [-105.1019, 40.1672]}\n",
    "\n",
    "geoparquet_client = Client.open(STAC_FASTAPI_GEOPARQUET_URI)\n",
    "pgstac_client = Client.open(STAC_FASTAPI_PGSTAC_URI)\n",
    "\n",
    "with Timer() as timer:\n",
    "    items = list(\n",
    "        geoparquet_client.search(\n",
    "            collections=[\"naip\"], intersects=LONGMONT\n",
    "        ).items_as_dicts()\n",
    "    )\n",
    "    timer.report(items)\n",
    "\n",
    "with Timer() as timer:\n",
    "    items = list(\n",
    "        pgstac_client.search(collections=[\"naip\"], intersects=LONGMONT).items_as_dicts()\n",
    "    )\n",
    "    timer.report(items)\n"
   ]
  },
  {
   "cell_type": "markdown",
   "id": "b9a4f67c",
   "metadata": {},
   "source": [
    "Intersects is pretty slow, let's see how we do on `id`.\n",
    "We'll first do a full scan to get the first and last IDs."
   ]
  },
  {
   "cell_type": "code",
   "execution_count": 6,
   "id": "9cbddddc",
   "metadata": {},
   "outputs": [
    {
     "name": "stdout",
     "output_type": "stream",
     "text": [
      "Retrieved 1 in 0.25s (4.06 items/s)\n",
      "Retrieved 1 in 0.26s (3.90 items/s)\n",
      "Retrieved 1 in 0.11s (8.99 items/s)\n",
      "Retrieved 1 in 0.07s (13.42 items/s)\n"
     ]
    }
   ],
   "source": [
    "items = list(\n",
    "    geoparquet_client.search(\n",
    "        collections=[\"naip\"], max_items=10000, limit=10000\n",
    "    ).items_as_dicts()\n",
    ")\n",
    "first_id = items[0][\"id\"]\n",
    "last_id = items[-1][\"id\"]\n",
    "\n",
    "with Timer() as timer:\n",
    "    items = list(\n",
    "        geoparquet_client.search(collections=[\"naip\"], ids=[first_id]).items_as_dicts()\n",
    "    )\n",
    "    timer.report(items)\n",
    "\n",
    "with Timer() as timer:\n",
    "    items = list(\n",
    "        geoparquet_client.search(collections=[\"naip\"], ids=[last_id]).items_as_dicts()\n",
    "    )\n",
    "    timer.report(items)\n",
    "\n",
    "with Timer() as timer:\n",
    "    items = list(\n",
    "        pgstac_client.search(collections=[\"naip\"], ids=[first_id]).items_as_dicts()\n",
    "    )\n",
    "    timer.report(items)\n",
    "\n",
    "with Timer() as timer:\n",
    "    items = list(\n",
    "        pgstac_client.search(collections=[\"naip\"], ids=[last_id]).items_as_dicts()\n",
    "    )\n",
    "    timer.report(items)"
   ]
  },
  {
   "cell_type": "markdown",
   "id": "425c9650",
   "metadata": {},
   "source": [
    "Ok, not as good as **pgstac** but not terrible.\n",
    "Let's try a cql2 filter."
   ]
  },
  {
   "cell_type": "code",
   "execution_count": 8,
   "id": "c8d74047",
   "metadata": {},
   "outputs": [
    {
     "name": "stdout",
     "output_type": "stream",
     "text": [
      "Retrieved 279 in 5.12s (54.44 items/s)\n"
     ]
    }
   ],
   "source": [
    "from cql2 import Expr\n",
    "\n",
    "# with Timer() as timer:\n",
    "#     items = list(\n",
    "#         geoparquet_client.search(\n",
    "#             collections=[\"naip\"], filter=\"naip:year = '2022'\"\n",
    "#         ).items_as_dicts()\n",
    "#     )\n",
    "#     timer.report(items)\n",
    "\n",
    "expr = Expr(\"naip:year = '2022'\").to_json()\n",
    "with Timer() as timer:\n",
    "    items = list(\n",
    "        pgstac_client.search(\n",
    "            collections=[\"naip\"], filter=expr\n",
    "        ).items_as_dicts()\n",
    "    )\n",
    "    timer.report(items)\n"
   ]
  }
 ],
 "metadata": {
  "kernelspec": {
   "display_name": ".venv",
   "language": "python",
   "name": "python3"
  },
  "language_info": {
   "codemirror_mode": {
    "name": "ipython",
    "version": 3
   },
   "file_extension": ".py",
   "mimetype": "text/x-python",
   "name": "python",
   "nbconvert_exporter": "python",
   "pygments_lexer": "ipython3",
   "version": "3.12.6"
  }
 },
 "nbformat": 4,
 "nbformat_minor": 5
}
