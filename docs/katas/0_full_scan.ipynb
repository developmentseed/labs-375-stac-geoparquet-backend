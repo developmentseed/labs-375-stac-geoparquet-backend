{
 "cells": [
  {
   "cell_type": "markdown",
   "metadata": {},
   "source": [
    "# Kata 0: Full scan\n",
    "\n",
    "For small and medium-sized datasets (say, less than a million items), we sometimes just want to get _everything_.\n",
    "This might be true for large datasets as well, especially in a train-a-model workflow.\n",
    "Here, we build up to a full scan of ten thousand [NAIP](https://naip-usdaonline.hub.arcgis.com/) items over Colorado.\n",
    "\n",
    "## Baby steps\n",
    "\n",
    "First, though, we want to explore the performance characteristics of our API over page size.\n",
    "Let's start with the default page size."
   ]
  },
  {
   "cell_type": "code",
   "execution_count": 20,
   "metadata": {},
   "outputs": [],
   "source": [
    "from pystac_client import Client\n",
    "\n",
    "from labs_375 import STAC_FASTAPI_GEOPARQUET_URI, Timer"
   ]
  },
  {
   "cell_type": "code",
   "execution_count": 21,
   "metadata": {},
   "outputs": [
    {
     "name": "stdout",
     "output_type": "stream",
     "text": [
      "Retrieved 100 in 17.31s (5.78 items/s)\n"
     ]
    }
   ],
   "source": [
    "client = Client.open(STAC_FASTAPI_GEOPARQUET_URI)\n",
    "\n",
    "with Timer() as timer:\n",
    "    items = list(client.search(collections=[\"naip\"], max_items=100).items_as_dicts())\n",
    "    timer.report(items)"
   ]
  },
  {
   "cell_type": "markdown",
   "metadata": {},
   "source": [
    "That's not excellent.\n",
    "Let's try bumping it up."
   ]
  },
  {
   "cell_type": "code",
   "execution_count": 22,
   "metadata": {},
   "outputs": [
    {
     "name": "stdout",
     "output_type": "stream",
     "text": [
      "Retrieved 100 in 1.69s (59.16 items/s)\n"
     ]
    }
   ],
   "source": [
    "client = Client.open(STAC_FASTAPI_GEOPARQUET_URI)\n",
    "with Timer() as timer:\n",
    "    items = list(\n",
    "        client.search(collections=[\"naip\"], max_items=100, limit=100).items_as_dicts()\n",
    "    )\n",
    "    timer.report(items)"
   ]
  },
  {
   "cell_type": "markdown",
   "metadata": {},
   "source": [
    "So much better.\n",
    "So lots of little requests are much worse, at least in this full scan case.\n",
    "Is there a maximum?"
   ]
  },
  {
   "cell_type": "code",
   "execution_count": 23,
   "metadata": {},
   "outputs": [
    {
     "name": "stdout",
     "output_type": "stream",
     "text": [
      "Retrieved 2000 in 3.04s (656.88 items/s)\n",
      "Retrieved 5000 in 4.96s (1008.75 items/s)\n"
     ]
    }
   ],
   "source": [
    "client = Client.open(STAC_FASTAPI_GEOPARQUET_URI)\n",
    "with Timer() as timer:\n",
    "    items = list(\n",
    "        client.search(collections=[\"naip\"], max_items=2000, limit=2000).items_as_dicts()\n",
    "    )\n",
    "    timer.report(items)\n",
    "\n",
    "with Timer() as timer:\n",
    "    items = list(\n",
    "        client.search(collections=[\"naip\"], max_items=5000, limit=5000).items_as_dicts()\n",
    "    )\n",
    "    timer.report(items)"
   ]
  },
  {
   "cell_type": "markdown",
   "metadata": {},
   "source": [
    "Whoa, no.\n",
    "So our **stac-fastapi-geoparquet** server, at least when doing large no-search requests, wants as large of a page size as possible.\n",
    "So let's try that for everything."
   ]
  },
  {
   "cell_type": "code",
   "execution_count": 24,
   "metadata": {},
   "outputs": [
    {
     "name": "stdout",
     "output_type": "stream",
     "text": [
      "Retrieved 10000 in 8.23s (1215.79 items/s)\n"
     ]
    }
   ],
   "source": [
    "client = Client.open(STAC_FASTAPI_GEOPARQUET_URI)\n",
    "with Timer() as timer:\n",
    "    items = list(\n",
    "        client.search(\n",
    "            collections=[\"naip\"], max_items=10000, limit=10000\n",
    "        ).items_as_dicts()\n",
    "    )\n",
    "    timer.report(items)"
   ]
  },
  {
   "cell_type": "markdown",
   "metadata": {},
   "source": [
    "One neat feature of **stac-geoparquet** is that we can query it directly using **DuckDB** from our client.\n",
    "[stacrs](https://stac-utils.github.io/stacrs/) can do that.\n",
    "What happens when we hit our **stac-geoparquet** in an s3 bucket directly?\n",
    "\n",
    "!!! note \"You need to configure your AWS account, either w/ access to the bucket via the eoAPI sub-account, or with requestor pays\""
   ]
  },
  {
   "cell_type": "code",
   "execution_count": null,
   "metadata": {},
   "outputs": [
    {
     "name": "stdout",
     "output_type": "stream",
     "text": [
      "Retrieved 10000 in 1.40s (7137.57 items/s)\n"
     ]
    }
   ],
   "source": [
    "from rustac import DuckdbClient\n",
    "\n",
    "from labs_375 import NAIP_GEOPARQUET_URI\n",
    "\n",
    "client = DuckdbClient()\n",
    "client.execute(\"CREATE SECRET (TYPE S3, PROVIDER CREDENTIAL_CHAIN)\")\n",
    "with Timer() as timer:\n",
    "    items = client.search(\n",
    "        NAIP_GEOPARQUET_URI,\n",
    "    )\n",
    "    timer.report(items)"
   ]
  },
  {
   "cell_type": "markdown",
   "metadata": {},
   "source": [
    "## Comparison with pgstac\n",
    "\n",
    "We've got the same items loaded into a [pgstac](https://github.com/stac-utils/pgstac) database, with a [stac-fastapi-pgstac](https://github.com/stac-utils/stac-fastapi-pgstac) serving them over HTTP.\n",
    "Let's try the same tests against that server, except for the full scan case — that one times out."
   ]
  },
  {
   "cell_type": "code",
   "execution_count": 28,
   "metadata": {},
   "outputs": [
    {
     "name": "stdout",
     "output_type": "stream",
     "text": [
      "Retrieved 100 in 1.01s (99.10 items/s)\n",
      "Retrieved 100 in 0.21s (484.68 items/s)\n",
      "Retrieved 2000 in 2.72s (734.03 items/s)\n",
      "Retrieved 5000 in 6.96s (718.13 items/s)\n"
     ]
    }
   ],
   "source": [
    "from labs_375 import STAC_FASTAPI_PGSTAC_URI\n",
    "\n",
    "client = Client.open(STAC_FASTAPI_PGSTAC_URI)\n",
    "\n",
    "with Timer() as timer:\n",
    "    items = list(client.search(collections=[\"naip\"], max_items=100).items_as_dicts())\n",
    "    timer.report(items)\n",
    "\n",
    "with Timer() as timer:\n",
    "    items = list(\n",
    "        client.search(collections=[\"naip\"], max_items=100, limit=100).items_as_dicts()\n",
    "    )\n",
    "    timer.report(items)\n",
    "\n",
    "with Timer() as timer:\n",
    "    items = list(\n",
    "        client.search(collections=[\"naip\"], max_items=2000, limit=2000).items_as_dicts()\n",
    "    )\n",
    "    timer.report(items)\n",
    "\n",
    "with Timer() as timer:\n",
    "    items = list(\n",
    "        client.search(collections=[\"naip\"], max_items=5000, limit=5000).items_as_dicts()\n",
    "    )\n",
    "    timer.report(items)"
   ]
  },
  {
   "cell_type": "markdown",
   "metadata": {},
   "source": [
    "## Sorting\n",
    "\n",
    "It looks like there's about equal performance in the 2000 item case, so let's use that point to explore how sorting effects performance.\n",
    "Our best guess is that **pgstac** will perform better, since it's a database!\n",
    "Let's see."
   ]
  },
  {
   "cell_type": "code",
   "execution_count": 34,
   "metadata": {},
   "outputs": [
    {
     "name": "stderr",
     "output_type": "stream",
     "text": [
      "/Users/gadomski/Code/developmentseed/labs-375-stac-geoparquet-backend/.venv/lib/python3.12/site-packages/pystac_client/item_search.py:442: DoesNotConformTo: Server does not conform to SORT\n",
      "  warnings.warn(DoesNotConformTo(\"SORT\"))\n"
     ]
    },
    {
     "name": "stdout",
     "output_type": "stream",
     "text": [
      "geoparquet datetime\n",
      "Retrieved 2000 in 3.03s (660.35 items/s)\n",
      "pgstac datetime\n",
      "Retrieved 2000 in 2.98s (672.20 items/s)\n",
      "\n",
      "geoparquet -datetime\n",
      "Retrieved 2000 in 2.78s (718.80 items/s)\n",
      "pgstac -datetime\n",
      "Retrieved 2000 in 2.90s (688.56 items/s)\n",
      "\n",
      "geoparquet naip:year\n",
      "Retrieved 2000 in 2.80s (714.57 items/s)\n",
      "pgstac naip:year\n",
      "Retrieved 2000 in 3.08s (650.32 items/s)\n",
      "\n"
     ]
    }
   ],
   "source": [
    "geoparquet_client = Client.open(STAC_FASTAPI_GEOPARQUET_URI)\n",
    "pgstac_client = Client.open(STAC_FASTAPI_PGSTAC_URI)\n",
    "\n",
    "for sortby in [\"datetime\", \"-datetime\", \"naip:year\"]:\n",
    "    with Timer() as timer:\n",
    "        items = list(\n",
    "            geoparquet_client.search(\n",
    "                collections=[\"naip\"], sortby=sortby, max_items=2000, limit=2000\n",
    "            ).items_as_dicts()\n",
    "        )\n",
    "        print(\"geoparquet\", sortby)\n",
    "        timer.report(items)\n",
    "    with Timer() as timer:\n",
    "        items = list(\n",
    "            pgstac_client.search(\n",
    "                collections=[\"naip\"], sortby=sortby, max_items=2000, limit=2000\n",
    "            ).items_as_dicts()\n",
    "        )\n",
    "        print(\"pgstac\", sortby)\n",
    "        timer.report(items)\n",
    "\n",
    "    print()"
   ]
  },
  {
   "cell_type": "markdown",
   "metadata": {},
   "source": [
    "## Fields\n",
    "\n",
    "One of the \"sells\" of (geo)parquet is that you don't need to fetch the entirety of the data, if you only need a few of the fields.\n",
    "For example, if you're only visualizing the STAC items, you might just return the `id` and the `geometry`.\n",
    "How do the two backends perform in this scenario?\n",
    "Let's also test against the direct access (without the API server)."
   ]
  },
  {
   "cell_type": "code",
   "execution_count": null,
   "metadata": {},
   "outputs": [
    {
     "name": "stderr",
     "output_type": "stream",
     "text": [
      "/Users/gadomski/Code/developmentseed/labs-375-stac-geoparquet-backend/.venv/lib/python3.12/site-packages/pystac_client/item_search.py:480: DoesNotConformTo: Server does not conform to FIELDS\n",
      "  warnings.warn(DoesNotConformTo(\"FIELDS\"))\n"
     ]
    },
    {
     "name": "stdout",
     "output_type": "stream",
     "text": [
      "geoparquet\n",
      "Retrieved 2000 in 2.97s (672.97 items/s)\n",
      "pgstac\n",
      "Retrieved 2000 in 1.60s (1251.75 items/s)\n",
      "Retrieved 2000 in 1.12s (1778.71 items/s)\n"
     ]
    }
   ],
   "source": [
    "geoparquet_client = Client.open(STAC_FASTAPI_GEOPARQUET_URI)\n",
    "pgstac_client = Client.open(STAC_FASTAPI_PGSTAC_URI)\n",
    "duckdb_client = DuckdbClient()\n",
    "duckdb_client.execute(\"CREATE SECRET (TYPE S3, PROVIDER CREDENTIAL_CHAIN)\")\n",
    "\n",
    "with Timer() as timer:\n",
    "    items = list(\n",
    "        geoparquet_client.search(\n",
    "            collections=[\"naip\"], fields=[\"id\", \"geometry\"], max_items=2000, limit=2000\n",
    "        ).items_as_dicts()\n",
    "    )\n",
    "    print(\"geoparquet\")\n",
    "    timer.report(items)\n",
    "\n",
    "with Timer() as timer:\n",
    "    items = list(\n",
    "        pgstac_client.search(\n",
    "            collections=[\"naip\"], fields=[\"id\", \"geometry\"], max_items=2000, limit=2000\n",
    "        ).items_as_dicts()\n",
    "    )\n",
    "    print(\"pgstac\")\n",
    "    timer.report(items)\n",
    "\n",
    "with Timer() as timer:\n",
    "    items = duckdb_client.search(\n",
    "        NAIP_GEOPARQUET_URI, fields=[\"id\", \"geometry\"], max_items=2000, limit=2000\n",
    "    )\n",
    "    print(\"duckdb\")\n",
    "    timer.report(items)"
   ]
  }
 ],
 "metadata": {
  "kernelspec": {
   "display_name": ".venv",
   "language": "python",
   "name": "python3"
  },
  "language_info": {
   "codemirror_mode": {
    "name": "ipython",
    "version": 3
   },
   "file_extension": ".py",
   "mimetype": "text/x-python",
   "name": "python",
   "nbconvert_exporter": "python",
   "pygments_lexer": "ipython3",
   "version": "3.12.6"
  }
 },
 "nbformat": 4,
 "nbformat_minor": 2
}
