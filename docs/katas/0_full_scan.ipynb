{
 "cells": [
  {
   "cell_type": "markdown",
   "metadata": {},
   "source": [
    "# Kata 0: Full scan\n",
    "\n",
    "For small and medium-sized datasets (say, less than a million items), we sometimes just want to get _everything_.\n",
    "This might be true for large datasets as well, especially in a train-a-model workflow.\n",
    "Here, we build up to a full scan of ten thousand [NAIP](https://naip-usdaonline.hub.arcgis.com/) items over Colorado.\n",
    "\n",
    "## Baby steps\n",
    "\n",
    "First, though, we want to explore the performance characteristics of our API over page size.\n",
    "Let's start with the default page size (10)."
   ]
  },
  {
   "cell_type": "code",
   "execution_count": 3,
   "metadata": {},
   "outputs": [],
   "source": [
    "from pystac_client import Client\n",
    "\n",
    "from labs_375 import STAC_FASTAPI_GEOPARQUET_URI, Timer"
   ]
  },
  {
   "cell_type": "code",
   "execution_count": 4,
   "metadata": {},
   "outputs": [
    {
     "name": "stdout",
     "output_type": "stream",
     "text": [
      "Retrieved 100 in 32.19s (3.11 items/s)\n"
     ]
    }
   ],
   "source": [
    "client = Client.open(STAC_FASTAPI_GEOPARQUET_URI)\n",
    "\n",
    "with Timer() as timer:\n",
    "    items = list(client.search(collections=[\"naip\"], max_items=100).items_as_dicts())\n",
    "    timer.report(items)"
   ]
  },
  {
   "cell_type": "markdown",
   "metadata": {},
   "source": [
    "That's not excellent.\n",
    "Let's try bumping it all the way up."
   ]
  },
  {
   "cell_type": "code",
   "execution_count": 5,
   "metadata": {},
   "outputs": [
    {
     "name": "stdout",
     "output_type": "stream",
     "text": [
      "Retrieved 100 in 3.25s (30.73 items/s)\n"
     ]
    }
   ],
   "source": [
    "client = Client.open(STAC_FASTAPI_GEOPARQUET_URI)\n",
    "with Timer() as timer:\n",
    "    items = list(\n",
    "        client.search(collections=[\"naip\"], max_items=100, limit=100).items_as_dicts()\n",
    "    )\n",
    "    timer.report(items)"
   ]
  },
  {
   "cell_type": "markdown",
   "metadata": {},
   "source": [
    "So much better.\n",
    "So lots of little requests are much worse, at least in this full scan case.\n",
    "Is there a maximum?"
   ]
  },
  {
   "cell_type": "code",
   "execution_count": 6,
   "metadata": {},
   "outputs": [
    {
     "name": "stdout",
     "output_type": "stream",
     "text": [
      "Retrieved 2000 in 4.63s (432.17 items/s)\n"
     ]
    }
   ],
   "source": [
    "client = Client.open(STAC_FASTAPI_GEOPARQUET_URI)\n",
    "with Timer() as timer:\n",
    "    items = list(\n",
    "        client.search(collections=[\"naip\"], max_items=2000, limit=2000).items_as_dicts()\n",
    "    )\n",
    "    timer.report(items)"
   ]
  },
  {
   "cell_type": "markdown",
   "metadata": {},
   "source": [
    "Whoa, no.\n",
    "So our **stac-fastapi-geoparquet** server, at least when doing large no-search requests, wants as large of a page size as possible.\n",
    "So let's try that for everything."
   ]
  },
  {
   "cell_type": "code",
   "execution_count": 7,
   "metadata": {},
   "outputs": [
    {
     "name": "stdout",
     "output_type": "stream",
     "text": [
      "Retrieved 10000 in 10.64s (939.65 items/s)\n"
     ]
    }
   ],
   "source": [
    "client = Client.open(STAC_FASTAPI_GEOPARQUET_URI)\n",
    "with Timer() as timer:\n",
    "    items = list(\n",
    "        client.search(\n",
    "            collections=[\"naip\"], max_items=10000, limit=10000\n",
    "        ).items_as_dicts()\n",
    "    )\n",
    "    timer.report(items)"
   ]
  },
  {
   "cell_type": "markdown",
   "metadata": {},
   "source": [
    "One neat feature of **stac-geoparquet** is that we can query it directly using **DuckDB** from our client.\n",
    "[stacrs](https://stac-utils.github.io/stacrs/) is a relatively new Python library that can do that.\n",
    "What happens when we hit our **stac-geoparquet** in an s3 bucket directly?\n",
    "\n",
    "!!! note \"You need to configure your AWS account, either w/ access to the bucket via the eoAPI sub-account, or with requestor pays\""
   ]
  },
  {
   "cell_type": "code",
   "execution_count": null,
   "metadata": {},
   "outputs": [
    {
     "name": "stdout",
     "output_type": "stream",
     "text": [
      "Retrieved 10000 in 1.60s (6239.00 items/s)\n"
     ]
    }
   ],
   "source": [
    "from rustac import DuckdbClient\n",
    "\n",
    "from labs_375 import NAIP_GEOPARQUET_URI\n",
    "\n",
    "client = DuckdbClient()\n",
    "with Timer() as timer:\n",
    "    items = client.search(\n",
    "        NAIP_GEOPARQUET_URI,\n",
    "    )[\"features\"]\n",
    "    timer.report(items)"
   ]
  }
 ],
 "metadata": {
  "kernelspec": {
   "display_name": ".venv",
   "language": "python",
   "name": "python3"
  },
  "language_info": {
   "codemirror_mode": {
    "name": "ipython",
    "version": 3
   },
   "file_extension": ".py",
   "mimetype": "text/x-python",
   "name": "python",
   "nbconvert_exporter": "python",
   "pygments_lexer": "ipython3",
   "version": "3.12.6"
  }
 },
 "nbformat": 4,
 "nbformat_minor": 2
}
